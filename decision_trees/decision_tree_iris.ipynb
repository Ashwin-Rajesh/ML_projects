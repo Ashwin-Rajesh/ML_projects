{
 "metadata": {
  "language_info": {
   "codemirror_mode": {
    "name": "ipython",
    "version": 3
   },
   "file_extension": ".py",
   "mimetype": "text/x-python",
   "name": "python",
   "nbconvert_exporter": "python",
   "pygments_lexer": "ipython3",
   "version": "3.7.7-final"
  },
  "orig_nbformat": 2,
  "kernelspec": {
   "name": "python37664bitbasecondae136968380ae4fcdb1cae1051555e6d5",
   "display_name": "Python 3.7.6 64-bit ('base': conda)"
  }
 },
 "nbformat": 4,
 "nbformat_minor": 2,
 "cells": [
  {
   "source": [
    "# Decision trees on iris dataset\n",
    "\n",
    "The iris dataset contains sepal length, sepal width, petal length and petal width for classifying flowers between 3 classes. \n",
    "\n",
    "Here, we will be using decision trees to classify a given input into one of the 3 classes."
   ],
   "cell_type": "markdown",
   "metadata": {}
  },
  {
   "source": [
    "---\n",
    "\n",
    "## Importing libraries and data pre-processing\n",
    "\n",
    "Libraries :\n",
    "- sklearn\n",
    "  - Importing iris dataset\n",
    "  - Splitting dataset into train and test sets\n",
    "- pandas\n",
    "  - Dataset is stored as pandas dataframe\n",
    "- numpy\n",
    "- matplotlib\n",
    "  - For visualisation"
   ],
   "cell_type": "markdown",
   "metadata": {}
  },
  {
   "cell_type": "code",
   "execution_count": 1,
   "metadata": {},
   "outputs": [],
   "source": [
    "# sklearn for only the dataset, pandas for managing the dataset and numpy for processing\n",
    "from sklearn.datasets import *\n",
    "from sklearn.model_selection import train_test_split\n",
    "import pandas as pd\n",
    "import numpy as np\n",
    "\n",
    "from time import time\n",
    "\n",
    "from IPython.display import display\n",
    "import matplotlib.pyplot as plt"
   ]
  },
  {
   "source": [
    "### About the dataset\n"
   ],
   "cell_type": "markdown",
   "metadata": {}
  },
  {
   "cell_type": "code",
   "execution_count": 2,
   "metadata": {},
   "outputs": [
    {
     "output_type": "display_data",
     "data": {
      "text/html": "<div>\n<style scoped>\n    .dataframe tbody tr th:only-of-type {\n        vertical-align: middle;\n    }\n\n    .dataframe tbody tr th {\n        vertical-align: top;\n    }\n\n    .dataframe thead th {\n        text-align: right;\n    }\n</style>\n<table border=\"1\" class=\"dataframe\">\n  <thead>\n    <tr style=\"text-align: right;\">\n      <th></th>\n      <th>sepal length (cm)</th>\n      <th>sepal width (cm)</th>\n      <th>petal length (cm)</th>\n      <th>petal width (cm)</th>\n    </tr>\n  </thead>\n  <tbody>\n    <tr>\n      <th>0</th>\n      <td>5.1</td>\n      <td>3.5</td>\n      <td>1.4</td>\n      <td>0.2</td>\n    </tr>\n    <tr>\n      <th>1</th>\n      <td>4.9</td>\n      <td>3.0</td>\n      <td>1.4</td>\n      <td>0.2</td>\n    </tr>\n    <tr>\n      <th>2</th>\n      <td>4.7</td>\n      <td>3.2</td>\n      <td>1.3</td>\n      <td>0.2</td>\n    </tr>\n    <tr>\n      <th>3</th>\n      <td>4.6</td>\n      <td>3.1</td>\n      <td>1.5</td>\n      <td>0.2</td>\n    </tr>\n    <tr>\n      <th>4</th>\n      <td>5.0</td>\n      <td>3.6</td>\n      <td>1.4</td>\n      <td>0.2</td>\n    </tr>\n    <tr>\n      <th>...</th>\n      <td>...</td>\n      <td>...</td>\n      <td>...</td>\n      <td>...</td>\n    </tr>\n    <tr>\n      <th>145</th>\n      <td>6.7</td>\n      <td>3.0</td>\n      <td>5.2</td>\n      <td>2.3</td>\n    </tr>\n    <tr>\n      <th>146</th>\n      <td>6.3</td>\n      <td>2.5</td>\n      <td>5.0</td>\n      <td>1.9</td>\n    </tr>\n    <tr>\n      <th>147</th>\n      <td>6.5</td>\n      <td>3.0</td>\n      <td>5.2</td>\n      <td>2.0</td>\n    </tr>\n    <tr>\n      <th>148</th>\n      <td>6.2</td>\n      <td>3.4</td>\n      <td>5.4</td>\n      <td>2.3</td>\n    </tr>\n    <tr>\n      <th>149</th>\n      <td>5.9</td>\n      <td>3.0</td>\n      <td>5.1</td>\n      <td>1.8</td>\n    </tr>\n  </tbody>\n</table>\n<p>150 rows × 4 columns</p>\n</div>",
      "text/plain": "     sepal length (cm)  sepal width (cm)  petal length (cm)  petal width (cm)\n0                  5.1               3.5                1.4               0.2\n1                  4.9               3.0                1.4               0.2\n2                  4.7               3.2                1.3               0.2\n3                  4.6               3.1                1.5               0.2\n4                  5.0               3.6                1.4               0.2\n..                 ...               ...                ...               ...\n145                6.7               3.0                5.2               2.3\n146                6.3               2.5                5.0               1.9\n147                6.5               3.0                5.2               2.0\n148                6.2               3.4                5.4               2.3\n149                5.9               3.0                5.1               1.8\n\n[150 rows x 4 columns]"
     },
     "metadata": {}
    }
   ],
   "source": [
    "# Importing the dataset\n",
    "data = load_iris()\n",
    "\n",
    "x = data['data']\n",
    "y = data['target']\n",
    "col_names = data['feature_names']\n",
    "\n",
    "x = pd.DataFrame(x, columns=col_names)\n",
    "display(x)\n",
    "x['target'] = y\n",
    "\n",
    "tgt_types = x['target'].unique()"
   ]
  },
  {
   "cell_type": "code",
   "execution_count": 3,
   "metadata": {},
   "outputs": [],
   "source": [
    "# Splitting the dataset\n",
    "train, test = train_test_split(x, test_size=20)"
   ]
  },
  {
   "source": [
    "## The code!\n",
    "I have used an object-oriented approach, and have implemented a class for each node in the decision tree (inspired by keras and pytorch APIs). The tree is build using a recursive breadth-first search algorithm, while simultaneously fitting the data."
   ],
   "cell_type": "markdown",
   "metadata": {}
  },
  {
   "cell_type": "code",
   "execution_count": 4,
   "metadata": {},
   "outputs": [],
   "source": [
    "def gini(x, col_name=None, thresh_val=None, debug=False):\n",
    "    \n",
    "    if(col_name == None):\n",
    "        tot_no = x.shape[0]\n",
    "        class_loss = np.zeros((tgt_types.size,1))\n",
    "        \n",
    "        for i in range(tgt_types.size):\n",
    "            class_no = x.loc[x['target'] == tgt_types[i]].shape[0]\n",
    "            class_p  = class_no / tot_no\n",
    "            class_loss[i, 0] = class_p * (1 - class_p)\n",
    "\n",
    "        return sum(class_loss)\n",
    "\n",
    "    upper = x.loc[x[col_name] >  thresh_val]\n",
    "    lower = x.loc[x[col_name] <= thresh_val]\n",
    "\n",
    "\n",
    "    class_loss = np.zeros((tgt_types.size, 2))\n",
    "\n",
    "    upper_tot = upper.shape[0]   \n",
    "    lower_tot = lower.shape[0] \n",
    "\n",
    "    if(upper_tot == 0 or lower_tot == 0):\n",
    "        return 1\n",
    "\n",
    "    for i in range(tgt_types.size):\n",
    "        upper_cls_no = upper.loc[upper['target'] == tgt_types[i]].shape[0]\n",
    "        lower_cls_no = lower.loc[lower['target'] == tgt_types[i]].shape[0]\n",
    "        \n",
    "        upper_cls_p  = upper_cls_no / upper_tot\n",
    "        lower_cls_p  = lower_cls_no / lower_tot\n",
    "\n",
    "        class_loss[i, 0] = upper_cls_p * (1 - upper_cls_p)\n",
    "        class_loss[i, 1] = lower_cls_p * (1 - lower_cls_p)\n",
    "\n",
    "    gini = np.sum(class_loss, axis=0)\n",
    "\n",
    "    impurity = (upper_tot*gini[0]/x.shape[0]) + (lower_tot*gini[1]/x.shape[0])\n",
    "\n",
    "    if debug:\n",
    "        plt.scatter(upper[col_name], upper['target'], color=\"green\")\n",
    "        plt.scatter(lower[col_name], lower['target'], color=\"blue\")\n",
    "        plt.ylabel(\"Class\")\n",
    "        plt.xlabel(col_name)\n",
    "        plt.axline((thresh_val, 0), (thresh_val, 2))\n",
    "        plt.title(\"Split : %.2f, Impurity : %.3f\"%(thresh_val, impurity))\n",
    "        plt.show()\n",
    "\n",
    "        \n",
    "    return impurity"
   ]
  },
  {
   "cell_type": "code",
   "execution_count": 5,
   "metadata": {},
   "outputs": [],
   "source": [
    "def split_data(x, col_name, thresh):\n",
    "    upper = x.loc[x[col_name] > thresh].drop(col_name, axis=1)\n",
    "    lower = x.loc[x[col_name] <= thresh].drop(col_name, axis=1)\n",
    "\n",
    "    return (upper, lower)"
   ]
  },
  {
   "cell_type": "code",
   "execution_count": 6,
   "metadata": {},
   "outputs": [],
   "source": [
    "def find_best_split(x):\n",
    "    inputs = x.drop('target', axis=1)\n",
    "    outputs = x['target']\n",
    "    \n",
    "    min_impurity = 1\n",
    "    min_col = \"\"\n",
    "    min_thresh = -1\n",
    "\n",
    "    for col_name in inputs.columns:\n",
    "\n",
    "        values = x.sort_values(col_name)[col_name].unique()\n",
    "        thresholds = [(values[i]+values[i+1])/2 for i in range(values.shape[0]-1)]\n",
    "\n",
    "        for i in thresholds:\n",
    "            impurity = gini(x, col_name, i, False)\n",
    "\n",
    "            if(impurity < min_impurity):\n",
    "                min_impurity = impurity\n",
    "                min_col      = col_name\n",
    "                min_thresh   = i\n",
    "\n",
    "    return (min_impurity, min_col, min_thresh)"
   ]
  },
  {
   "cell_type": "code",
   "execution_count": 7,
   "metadata": {},
   "outputs": [],
   "source": [
    "class DecisionNode():\n",
    "    def __init__(self, parent, level=None, name=None, debug=False):\n",
    "        self.parent = parent\n",
    "        \n",
    "        if(level == None):\n",
    "            if(parent == None):\n",
    "                self.level = 0\n",
    "            else:\n",
    "                self.level = parent.level + 1\n",
    "        else:\n",
    "            self.level = level\n",
    "        \n",
    "        self.leaf   = False             # Is this node a leaf node?\n",
    "        self.state  = None              # The output state (if a leaf node)\n",
    "        self.col    = None              # Threshold column name\n",
    "        self.thresh = 0                 # Threshold value\n",
    "        \n",
    "        self.upper  = None              # Upper child node\n",
    "        self.lower  = None              # Lower child node\n",
    "\n",
    "        self.debug  = debug             # If true, displays debug information\n",
    "\n",
    "        if(name == None):               # The name is displayed if debug is turned on\n",
    "            if(parent == None):\n",
    "                self.name = \"root_node\"\n",
    "            else:\n",
    "                self.name = \"level%d_node\" % self.level\n",
    "        else:\n",
    "            self.name = name\n",
    "\n",
    "        if(debug):\n",
    "            print(\" %15s : Initialised node with level : %2d\" % (self.name, self.level))\n",
    "\n",
    "    # Turn the node into a leaf node, with provided output\n",
    "    def make_leaf(self, output):\n",
    "        self.leaf  = True\n",
    "        self.state = output\n",
    "\n",
    "        if(self.debug):\n",
    "            print(\" %15s : Made into leaf node, with output '%d'\" % (self.name, self.state))\n",
    "\n",
    "    # Train with data (set column and threshold).\n",
    "    # If the gini impurity has deteriorated or has not improved, then the node is made into a leaf node.\n",
    "    # force_decision can be set to True to disable automatic conversion to leaf nodes\n",
    "    def train(self, x, force_decision=False):\n",
    "        data_impurity = gini(x)\n",
    "        impurity, self.col, self.thresh = find_best_split(x)\n",
    "\n",
    "        if(self.debug):\n",
    "            print(\" %15s : Trained. Impurity before : %.2f, Impurity : %.2f, Column : '%s', Threshold : %.2f\" % (self.name, data_impurity, impurity, self.col, self.thresh))\n",
    "        \n",
    "        if(impurity >= data_impurity and not force_decision):\n",
    "            self.make_leaf(x.mode()['target'][0])\n",
    "            self.col    = None\n",
    "            self.thresh = None\n",
    "\n",
    "    # Split the data into two, if its not a leaf node\n",
    "    def split(self, x):\n",
    "        if(self.leaf):\n",
    "            if(self.debug):\n",
    "                print(\" %15s : Cant split, is a leaf node.\"%self.name)\n",
    "            return False\n",
    "\n",
    "        if(self.debug):\n",
    "            print(\" %15s : Splitting input...\"%self.name)\n",
    "        \n",
    "        return split_data(x, self.col, self.thresh)\n",
    "    \n",
    "    # Attach the upper child node\n",
    "    def attach_upper(self, upper_node):\n",
    "        if(self.leaf):\n",
    "            print(\" %15s : Cant attach, is a leaf node\"%self.name)\n",
    "            return False\n",
    "        \n",
    "        self.upper = upper_node\n",
    "        return True\n",
    "\n",
    "        if(self.debug):\n",
    "            print(\" %15s : Attached upper node '%s'\"%(self.name, self.upper.name))\n",
    "\n",
    "    # Attach the lower child node\n",
    "    def attach_lower(self, lower_node):\n",
    "        if(self.leaf):\n",
    "            print(\" %15s : Cant attach, is a leaf node\"%self.name)\n",
    "            return False\n",
    "\n",
    "        self.lower = lower_node\n",
    "        return True\n",
    "\n",
    "        if(self.debug):\n",
    "            print(\" %15s : Attached upper node '%s'\"%(self.name, self.lower.name))\n",
    "\n",
    "    # Classify a given data sample\n",
    "    # If the node is a leaf node, it returns the assigned state\n",
    "    # Else, it uses the decision criteria to call either the upper or lower child node.\n",
    "    def classify(self, x):\n",
    "        if(self.leaf):\n",
    "            if(self.debug):\n",
    "                print(\" %15s : Leaf node - returning result %d\"%(self.name, self.state))\n",
    "            return self.state\n",
    "\n",
    "        if(self.debug):\n",
    "            print(\" %15s : Classifying criteria - %s >= %.2f\"%(self.name, self.col, self.thresh))\n",
    "        if(x[self.col] > self.thresh):\n",
    "            if(self.debug):\n",
    "                print(\" %15s : Moving to upper node\"%self.name)\n",
    "            return self.upper.classify(x)\n",
    "        else:\n",
    "            if(self.debug):\n",
    "                print(\" %15s : Moving to lower node\"%self.name)\n",
    "            return self.lower.classify(x)\n",
    "\n",
    "    # Create and link upper and lower child nodes\n",
    "    def make_children(self, debug=None):\n",
    "        if(self.debug):\n",
    "            print(\" %15s : Making children nodes...\"%self.name)\n",
    "\n",
    "        if(debug==None):\n",
    "            debug=self.debug\n",
    "\n",
    "        upper = DecisionNode(self, name='%s+'%(self.name), debug=debug)\n",
    "        lower = DecisionNode(self, name='%s-'%(self.name), debug=debug)\n",
    "\n",
    "        self.attach_upper(upper)\n",
    "        self.attach_lower(lower)\n",
    "\n",
    "        return upper, lower\n",
    "\n",
    "    # Returns the upper and lower child nodes\n",
    "    def get_children(self):\n",
    "        return self.upper, self.lower\n",
    "\n",
    "    # Change debug state.\n",
    "    # Setting propagate to True will propagate the change in debug state down its child nodes.\n",
    "    def set_debug(self, debug=True, propagate=False):\n",
    "        if(self.debug != debug):\n",
    "            print(\" %15s : Setting debug to %s\"%(self.name, debug))\n",
    "        self.debug=debug\n",
    "        if(propagate):\n",
    "            if(not self.leaf):\n",
    "                self.upper.set_debug(debug, True)\n",
    "                self.lower.set_debug(debug, True)"
   ]
  },
  {
   "cell_type": "code",
   "execution_count": 8,
   "metadata": {},
   "outputs": [],
   "source": [
    "# Recurseive depth-first search, while building the tree\n",
    "def build_tree(data, level, node=None, debug=False):\n",
    "    # If at the last level, make the node a leaf node\n",
    "    if(level == 0):\n",
    "        leaf_out = data.mode()['target'][0]\n",
    "        node.make_leaf(leaf_out)\n",
    "        return\n",
    "    \n",
    "    # If no parent node is passed, create a new node, called the 'root' node.\n",
    "    if(node == None):\n",
    "        node = DecisionNode(None, name='root', debug=debug)\n",
    "    \n",
    "    # Train the node\n",
    "    node.train(data)\n",
    "    \n",
    "    # If the node decided to be a leaf node, stop building further\n",
    "    if(node.leaf):\n",
    "        return\n",
    "\n",
    "    # Else, make child nodes, and split the dataset between these nodes\n",
    "    node.make_children()\n",
    "    upper_ds, lower_ds = node.split(data)\n",
    "    \n",
    "    # Build the tree down from these nodes, using the split dataset.\n",
    "    # Note : Its a depth-first search because the upper node is called first, and only after\n",
    "    #   its tree has been built, is the lower node called\n",
    "    build_tree(upper_ds, level-1, node.upper)\n",
    "    build_tree(lower_ds, level-1, node.lower)\n",
    "\n",
    "    return node"
   ]
  },
  {
   "cell_type": "code",
   "execution_count": 9,
   "metadata": {},
   "outputs": [
    {
     "output_type": "stream",
     "name": "stdout",
     "text": [
      "            root : Initialised node with level :  0\n",
      "            root : Trained. Impurity before : 0.66, Impurity : 0.34, Column : 'petal length (cm)', Threshold : 2.45\n",
      "            root : Making children nodes...\n",
      "           root+ : Initialised node with level :  1\n",
      "           root- : Initialised node with level :  1\n",
      "            root : Splitting input...\n",
      "           root+ : Trained. Impurity before : 0.50, Impurity : 0.09, Column : 'petal width (cm)', Threshold : 1.75\n",
      "           root+ : Making children nodes...\n",
      "          root++ : Initialised node with level :  2\n",
      "          root+- : Initialised node with level :  2\n",
      "           root+ : Splitting input...\n",
      "          root++ : Trained. Impurity before : 0.05, Impurity : 0.05, Column : 'sepal length (cm)', Threshold : 6.00\n",
      "          root++ : Making children nodes...\n",
      "         root+++ : Initialised node with level :  3\n",
      "         root++- : Initialised node with level :  3\n",
      "          root++ : Splitting input...\n",
      "         root+++ : Trained. Impurity before : 0.00, Impurity : 0.00, Column : 'sepal width (cm)', Threshold : 2.55\n",
      "         root+++ : Made into leaf node, with output '2'\n",
      "         root++- : Trained. Impurity before : 0.24, Impurity : 0.00, Column : 'sepal width (cm)', Threshold : 3.10\n",
      "         root++- : Making children nodes...\n",
      "        root++-+ : Initialised node with level :  4\n",
      "        root++-- : Initialised node with level :  4\n",
      "         root++- : Splitting input...\n",
      "        root++-+ : Trained. Impurity before : 0.00, Impurity : 1.00, Column : '', Threshold : -1.00\n",
      "        root++-+ : Made into leaf node, with output '1'\n",
      "        root++-- : Trained. Impurity before : 0.00, Impurity : 1.00, Column : '', Threshold : -1.00\n",
      "        root++-- : Made into leaf node, with output '2'\n",
      "          root+- : Trained. Impurity before : 0.11, Impurity : 0.08, Column : 'sepal length (cm)', Threshold : 7.10\n",
      "          root+- : Making children nodes...\n",
      "         root+-+ : Initialised node with level :  3\n",
      "         root+-- : Initialised node with level :  3\n",
      "          root+- : Splitting input...\n",
      "         root+-+ : Trained. Impurity before : 0.00, Impurity : 1.00, Column : '', Threshold : -1.00\n",
      "         root+-+ : Made into leaf node, with output '2'\n",
      "         root+-- : Trained. Impurity before : 0.08, Impurity : 0.08, Column : 'sepal width (cm)', Threshold : 2.85\n",
      "         root+-- : Making children nodes...\n",
      "        root+--+ : Initialised node with level :  4\n",
      "        root+--- : Initialised node with level :  4\n",
      "         root+-- : Splitting input...\n",
      "        root+--+ : Trained. Impurity before : 0.00, Impurity : 1.00, Column : '', Threshold : -1.00\n",
      "        root+--+ : Made into leaf node, with output '1'\n",
      "        root+--- : Trained. Impurity before : 0.13, Impurity : 1.00, Column : '', Threshold : -1.00\n",
      "        root+--- : Made into leaf node, with output '1'\n",
      "           root- : Trained. Impurity before : 0.00, Impurity : 0.00, Column : 'sepal length (cm)', Threshold : 4.35\n",
      "           root- : Made into leaf node, with output '0'\n",
      " Fitting data took 0.735 seconds\n"
     ]
    }
   ],
   "source": [
    "# The level is the maximum number of decision nodes from root to the end (excluding leaf nodes)\n",
    "tick = time()\n",
    "root = build_tree(train, 5, debug=True)\n",
    "print(\" Fitting data took %.3f seconds\"%(time()-tick))"
   ]
  },
  {
   "cell_type": "code",
   "execution_count": 10,
   "metadata": {
    "tags": []
   },
   "outputs": [
    {
     "output_type": "stream",
     "name": "stdout",
     "text": [
      " Testing on a sample : test set index '4'\n"
     ]
    },
    {
     "output_type": "display_data",
     "data": {
      "text/plain": "sepal length (cm)    5.0\nsepal width (cm)     3.0\npetal length (cm)    1.6\npetal width (cm)     0.2\ntarget               0.0\nName: 25, dtype: float64"
     },
     "metadata": {}
    },
    {
     "output_type": "stream",
     "name": "stdout",
     "text": [
      "            root : Classifying criteria - petal length (cm) >= 2.45\n            root : Moving to lower node\n           root- : Leaf node - returning result 0\n\n Classification result : 0, Label : 0\n\n Testing on a sample : test set index '0'\n"
     ]
    },
    {
     "output_type": "display_data",
     "data": {
      "text/plain": "sepal length (cm)    6.9\nsepal width (cm)     3.1\npetal length (cm)    5.4\npetal width (cm)     2.1\ntarget               2.0\nName: 139, dtype: float64"
     },
     "metadata": {}
    },
    {
     "output_type": "stream",
     "name": "stdout",
     "text": [
      "            root : Classifying criteria - petal length (cm) >= 2.45\n            root : Moving to upper node\n           root+ : Classifying criteria - petal width (cm) >= 1.75\n           root+ : Moving to upper node\n          root++ : Classifying criteria - sepal length (cm) >= 6.00\n          root++ : Moving to upper node\n         root+++ : Leaf node - returning result 2\n\n Classification result : 2, Label : 2\n\n Testing on a sample : test set index '7'\n"
     ]
    },
    {
     "output_type": "display_data",
     "data": {
      "text/plain": "sepal length (cm)    5.4\nsepal width (cm)     3.4\npetal length (cm)    1.5\npetal width (cm)     0.4\ntarget               0.0\nName: 31, dtype: float64"
     },
     "metadata": {}
    },
    {
     "output_type": "stream",
     "name": "stdout",
     "text": [
      "            root : Classifying criteria - petal length (cm) >= 2.45\n            root : Moving to lower node\n           root- : Leaf node - returning result 0\n\n Classification result : 0, Label : 0\n\n Testing on a sample : test set index '9'\n"
     ]
    },
    {
     "output_type": "display_data",
     "data": {
      "text/plain": "sepal length (cm)    5.9\nsepal width (cm)     3.0\npetal length (cm)    4.2\npetal width (cm)     1.5\ntarget               1.0\nName: 61, dtype: float64"
     },
     "metadata": {}
    },
    {
     "output_type": "stream",
     "name": "stdout",
     "text": [
      "            root : Classifying criteria - petal length (cm) >= 2.45\n            root : Moving to upper node\n           root+ : Classifying criteria - petal width (cm) >= 1.75\n           root+ : Moving to lower node\n          root+- : Classifying criteria - sepal length (cm) >= 7.10\n          root+- : Moving to lower node\n         root+-- : Classifying criteria - sepal width (cm) >= 2.85\n         root+-- : Moving to upper node\n        root+--+ : Leaf node - returning result 1\n\n Classification result : 1, Label : 1\n\n Testing on a sample : test set index '11'\n"
     ]
    },
    {
     "output_type": "display_data",
     "data": {
      "text/plain": "sepal length (cm)    7.2\nsepal width (cm)     3.2\npetal length (cm)    6.0\npetal width (cm)     1.8\ntarget               2.0\nName: 125, dtype: float64"
     },
     "metadata": {}
    },
    {
     "output_type": "stream",
     "name": "stdout",
     "text": [
      "            root : Classifying criteria - petal length (cm) >= 2.45\n            root : Moving to upper node\n           root+ : Classifying criteria - petal width (cm) >= 1.75\n           root+ : Moving to upper node\n          root++ : Classifying criteria - sepal length (cm) >= 6.00\n          root++ : Moving to upper node\n         root+++ : Leaf node - returning result 2\n\n Classification result : 2, Label : 2\n\n            root : Setting debug to False\n           root+ : Setting debug to False\n          root++ : Setting debug to False\n         root+++ : Setting debug to False\n         root++- : Setting debug to False\n        root++-+ : Setting debug to False\n        root++-- : Setting debug to False\n          root+- : Setting debug to False\n         root+-+ : Setting debug to False\n         root+-- : Setting debug to False\n        root+--+ : Setting debug to False\n        root+--- : Setting debug to False\n           root- : Setting debug to False\n"
     ]
    }
   ],
   "source": [
    "num_samples = 5\n",
    "\n",
    "for i in np.random.choice(test.shape[0], num_samples, replace=False):\n",
    "    print(\" Testing on a sample : test set index '%d'\"%i)\n",
    "    display(test.iloc[i])\n",
    "    result = root.classify(test.iloc[i])\n",
    "    print()\n",
    "    print(\" Classification result : %d, Label : %d\" % (result, test.iloc[i]['target']))\n",
    "    print()\n",
    "    \n",
    "root.set_debug(False, propagate=True)"
   ]
  },
  {
   "cell_type": "code",
   "execution_count": 11,
   "metadata": {},
   "outputs": [
    {
     "output_type": "stream",
     "name": "stdout",
     "text": [
      " Test set : 2/20 were wrongly classified. \n Train set : 2/130 were wrongly classified. \n"
     ]
    }
   ],
   "source": [
    "error = 0\n",
    "\n",
    "for i in test.index:\n",
    "    inp = test.loc[i]\n",
    "    out = root.classify(inp)\n",
    "    if(out != inp['target']):\n",
    "        error = error+1\n",
    "\n",
    "print(\" Test set : %d/%d were wrongly classified. \" % (error,test.shape[0]))\n",
    "\n",
    "error = 0\n",
    "\n",
    "for i in train.index:\n",
    "    inp = train.loc[i]\n",
    "    out = root.classify(inp)\n",
    "    if(out != inp['target']):\n",
    "        error = error+1\n",
    "\n",
    "print(\" Train set : %d/%d were wrongly classified. \" % (error,train.shape[0]))"
   ]
  },
  {
   "cell_type": "code",
   "execution_count": null,
   "metadata": {},
   "outputs": [],
   "source": []
  }
 ]
}