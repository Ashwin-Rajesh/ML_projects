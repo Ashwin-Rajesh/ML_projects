{
 "metadata": {
  "language_info": {
   "codemirror_mode": {
    "name": "ipython",
    "version": 3
   },
   "file_extension": ".py",
   "mimetype": "text/x-python",
   "name": "python",
   "nbconvert_exporter": "python",
   "pygments_lexer": "ipython3",
   "version": "3.7.7-final"
  },
  "orig_nbformat": 2,
  "kernelspec": {
   "name": "python37664bitbasecondae136968380ae4fcdb1cae1051555e6d5",
   "display_name": "Python 3.7.6 64-bit ('base': conda)"
  }
 },
 "nbformat": 4,
 "nbformat_minor": 2,
 "cells": [
  {
   "cell_type": "code",
   "execution_count": 2,
   "metadata": {},
   "outputs": [],
   "source": [
    "# sklearn for only the dataset, pandas for managing the dataset and numpy for processing\n",
    "from sklearn.datasets import *\n",
    "from sklearn.model_selection import train_test_split\n",
    "import pandas as pd\n",
    "import numpy as np\n",
    "\n",
    "from sklearn import tree\n",
    "\n",
    "from time import time\n",
    "\n",
    "from IPython.display import display\n",
    "import matplotlib.pyplot as plt\n",
    "\n",
    "from decision_tree import *\n",
    "from random_forest import *"
   ]
  },
  {
   "cell_type": "code",
   "execution_count": 3,
   "metadata": {},
   "outputs": [
    {
     "output_type": "stream",
     "name": "stdout",
     "text": [
      "Loading dataset 'breast_cancer'\n"
     ]
    }
   ],
   "source": [
    "# Select the dataset from options iris, breast_cancer, digits, wine\n",
    "dataset = 'breast_cancer'\n",
    "\n",
    "data = None\n",
    "\n",
    "print(\"Loading dataset '%s'\"%dataset)\n",
    "\n",
    "if(dataset == 'iris'):\n",
    "    data = load_iris()\n",
    "elif(dataset == 'breast_cancer'):\n",
    "    data = load_breast_cancer()\n",
    "elif(dataset == 'digits'):\n",
    "    data = load_digits()\n",
    "elif(dataset == 'wine'):\n",
    "    data = load_wine()\n",
    "else:\n",
    "    print(\"Invalid dataset selected\")"
   ]
  },
  {
   "cell_type": "code",
   "execution_count": 4,
   "metadata": {},
   "outputs": [
    {
     "output_type": "display_data",
     "data": {
      "text/html": "<div>\n<style scoped>\n    .dataframe tbody tr th:only-of-type {\n        vertical-align: middle;\n    }\n\n    .dataframe tbody tr th {\n        vertical-align: top;\n    }\n\n    .dataframe thead th {\n        text-align: right;\n    }\n</style>\n<table border=\"1\" class=\"dataframe\">\n  <thead>\n    <tr style=\"text-align: right;\">\n      <th></th>\n      <th>mean radius</th>\n      <th>mean texture</th>\n      <th>mean perimeter</th>\n      <th>mean area</th>\n      <th>mean smoothness</th>\n      <th>mean compactness</th>\n      <th>mean concavity</th>\n      <th>mean concave points</th>\n      <th>mean symmetry</th>\n      <th>mean fractal dimension</th>\n      <th>...</th>\n      <th>worst texture</th>\n      <th>worst perimeter</th>\n      <th>worst area</th>\n      <th>worst smoothness</th>\n      <th>worst compactness</th>\n      <th>worst concavity</th>\n      <th>worst concave points</th>\n      <th>worst symmetry</th>\n      <th>worst fractal dimension</th>\n      <th>target</th>\n    </tr>\n  </thead>\n  <tbody>\n    <tr>\n      <th>0</th>\n      <td>17.99</td>\n      <td>10.38</td>\n      <td>122.80</td>\n      <td>1001.0</td>\n      <td>0.11840</td>\n      <td>0.27760</td>\n      <td>0.30010</td>\n      <td>0.14710</td>\n      <td>0.2419</td>\n      <td>0.07871</td>\n      <td>...</td>\n      <td>17.33</td>\n      <td>184.60</td>\n      <td>2019.0</td>\n      <td>0.16220</td>\n      <td>0.66560</td>\n      <td>0.7119</td>\n      <td>0.2654</td>\n      <td>0.4601</td>\n      <td>0.11890</td>\n      <td>0</td>\n    </tr>\n    <tr>\n      <th>1</th>\n      <td>20.57</td>\n      <td>17.77</td>\n      <td>132.90</td>\n      <td>1326.0</td>\n      <td>0.08474</td>\n      <td>0.07864</td>\n      <td>0.08690</td>\n      <td>0.07017</td>\n      <td>0.1812</td>\n      <td>0.05667</td>\n      <td>...</td>\n      <td>23.41</td>\n      <td>158.80</td>\n      <td>1956.0</td>\n      <td>0.12380</td>\n      <td>0.18660</td>\n      <td>0.2416</td>\n      <td>0.1860</td>\n      <td>0.2750</td>\n      <td>0.08902</td>\n      <td>0</td>\n    </tr>\n    <tr>\n      <th>2</th>\n      <td>19.69</td>\n      <td>21.25</td>\n      <td>130.00</td>\n      <td>1203.0</td>\n      <td>0.10960</td>\n      <td>0.15990</td>\n      <td>0.19740</td>\n      <td>0.12790</td>\n      <td>0.2069</td>\n      <td>0.05999</td>\n      <td>...</td>\n      <td>25.53</td>\n      <td>152.50</td>\n      <td>1709.0</td>\n      <td>0.14440</td>\n      <td>0.42450</td>\n      <td>0.4504</td>\n      <td>0.2430</td>\n      <td>0.3613</td>\n      <td>0.08758</td>\n      <td>0</td>\n    </tr>\n    <tr>\n      <th>3</th>\n      <td>11.42</td>\n      <td>20.38</td>\n      <td>77.58</td>\n      <td>386.1</td>\n      <td>0.14250</td>\n      <td>0.28390</td>\n      <td>0.24140</td>\n      <td>0.10520</td>\n      <td>0.2597</td>\n      <td>0.09744</td>\n      <td>...</td>\n      <td>26.50</td>\n      <td>98.87</td>\n      <td>567.7</td>\n      <td>0.20980</td>\n      <td>0.86630</td>\n      <td>0.6869</td>\n      <td>0.2575</td>\n      <td>0.6638</td>\n      <td>0.17300</td>\n      <td>0</td>\n    </tr>\n    <tr>\n      <th>4</th>\n      <td>20.29</td>\n      <td>14.34</td>\n      <td>135.10</td>\n      <td>1297.0</td>\n      <td>0.10030</td>\n      <td>0.13280</td>\n      <td>0.19800</td>\n      <td>0.10430</td>\n      <td>0.1809</td>\n      <td>0.05883</td>\n      <td>...</td>\n      <td>16.67</td>\n      <td>152.20</td>\n      <td>1575.0</td>\n      <td>0.13740</td>\n      <td>0.20500</td>\n      <td>0.4000</td>\n      <td>0.1625</td>\n      <td>0.2364</td>\n      <td>0.07678</td>\n      <td>0</td>\n    </tr>\n    <tr>\n      <th>...</th>\n      <td>...</td>\n      <td>...</td>\n      <td>...</td>\n      <td>...</td>\n      <td>...</td>\n      <td>...</td>\n      <td>...</td>\n      <td>...</td>\n      <td>...</td>\n      <td>...</td>\n      <td>...</td>\n      <td>...</td>\n      <td>...</td>\n      <td>...</td>\n      <td>...</td>\n      <td>...</td>\n      <td>...</td>\n      <td>...</td>\n      <td>...</td>\n      <td>...</td>\n      <td>...</td>\n    </tr>\n    <tr>\n      <th>564</th>\n      <td>21.56</td>\n      <td>22.39</td>\n      <td>142.00</td>\n      <td>1479.0</td>\n      <td>0.11100</td>\n      <td>0.11590</td>\n      <td>0.24390</td>\n      <td>0.13890</td>\n      <td>0.1726</td>\n      <td>0.05623</td>\n      <td>...</td>\n      <td>26.40</td>\n      <td>166.10</td>\n      <td>2027.0</td>\n      <td>0.14100</td>\n      <td>0.21130</td>\n      <td>0.4107</td>\n      <td>0.2216</td>\n      <td>0.2060</td>\n      <td>0.07115</td>\n      <td>0</td>\n    </tr>\n    <tr>\n      <th>565</th>\n      <td>20.13</td>\n      <td>28.25</td>\n      <td>131.20</td>\n      <td>1261.0</td>\n      <td>0.09780</td>\n      <td>0.10340</td>\n      <td>0.14400</td>\n      <td>0.09791</td>\n      <td>0.1752</td>\n      <td>0.05533</td>\n      <td>...</td>\n      <td>38.25</td>\n      <td>155.00</td>\n      <td>1731.0</td>\n      <td>0.11660</td>\n      <td>0.19220</td>\n      <td>0.3215</td>\n      <td>0.1628</td>\n      <td>0.2572</td>\n      <td>0.06637</td>\n      <td>0</td>\n    </tr>\n    <tr>\n      <th>566</th>\n      <td>16.60</td>\n      <td>28.08</td>\n      <td>108.30</td>\n      <td>858.1</td>\n      <td>0.08455</td>\n      <td>0.10230</td>\n      <td>0.09251</td>\n      <td>0.05302</td>\n      <td>0.1590</td>\n      <td>0.05648</td>\n      <td>...</td>\n      <td>34.12</td>\n      <td>126.70</td>\n      <td>1124.0</td>\n      <td>0.11390</td>\n      <td>0.30940</td>\n      <td>0.3403</td>\n      <td>0.1418</td>\n      <td>0.2218</td>\n      <td>0.07820</td>\n      <td>0</td>\n    </tr>\n    <tr>\n      <th>567</th>\n      <td>20.60</td>\n      <td>29.33</td>\n      <td>140.10</td>\n      <td>1265.0</td>\n      <td>0.11780</td>\n      <td>0.27700</td>\n      <td>0.35140</td>\n      <td>0.15200</td>\n      <td>0.2397</td>\n      <td>0.07016</td>\n      <td>...</td>\n      <td>39.42</td>\n      <td>184.60</td>\n      <td>1821.0</td>\n      <td>0.16500</td>\n      <td>0.86810</td>\n      <td>0.9387</td>\n      <td>0.2650</td>\n      <td>0.4087</td>\n      <td>0.12400</td>\n      <td>0</td>\n    </tr>\n    <tr>\n      <th>568</th>\n      <td>7.76</td>\n      <td>24.54</td>\n      <td>47.92</td>\n      <td>181.0</td>\n      <td>0.05263</td>\n      <td>0.04362</td>\n      <td>0.00000</td>\n      <td>0.00000</td>\n      <td>0.1587</td>\n      <td>0.05884</td>\n      <td>...</td>\n      <td>30.37</td>\n      <td>59.16</td>\n      <td>268.6</td>\n      <td>0.08996</td>\n      <td>0.06444</td>\n      <td>0.0000</td>\n      <td>0.0000</td>\n      <td>0.2871</td>\n      <td>0.07039</td>\n      <td>1</td>\n    </tr>\n  </tbody>\n</table>\n<p>569 rows × 31 columns</p>\n</div>",
      "text/plain": "     mean radius  mean texture  mean perimeter  mean area  mean smoothness  \\\n0          17.99         10.38          122.80     1001.0          0.11840   \n1          20.57         17.77          132.90     1326.0          0.08474   \n2          19.69         21.25          130.00     1203.0          0.10960   \n3          11.42         20.38           77.58      386.1          0.14250   \n4          20.29         14.34          135.10     1297.0          0.10030   \n..           ...           ...             ...        ...              ...   \n564        21.56         22.39          142.00     1479.0          0.11100   \n565        20.13         28.25          131.20     1261.0          0.09780   \n566        16.60         28.08          108.30      858.1          0.08455   \n567        20.60         29.33          140.10     1265.0          0.11780   \n568         7.76         24.54           47.92      181.0          0.05263   \n\n     mean compactness  mean concavity  mean concave points  mean symmetry  \\\n0             0.27760         0.30010              0.14710         0.2419   \n1             0.07864         0.08690              0.07017         0.1812   \n2             0.15990         0.19740              0.12790         0.2069   \n3             0.28390         0.24140              0.10520         0.2597   \n4             0.13280         0.19800              0.10430         0.1809   \n..                ...             ...                  ...            ...   \n564           0.11590         0.24390              0.13890         0.1726   \n565           0.10340         0.14400              0.09791         0.1752   \n566           0.10230         0.09251              0.05302         0.1590   \n567           0.27700         0.35140              0.15200         0.2397   \n568           0.04362         0.00000              0.00000         0.1587   \n\n     mean fractal dimension  ...  worst texture  worst perimeter  worst area  \\\n0                   0.07871  ...          17.33           184.60      2019.0   \n1                   0.05667  ...          23.41           158.80      1956.0   \n2                   0.05999  ...          25.53           152.50      1709.0   \n3                   0.09744  ...          26.50            98.87       567.7   \n4                   0.05883  ...          16.67           152.20      1575.0   \n..                      ...  ...            ...              ...         ...   \n564                 0.05623  ...          26.40           166.10      2027.0   \n565                 0.05533  ...          38.25           155.00      1731.0   \n566                 0.05648  ...          34.12           126.70      1124.0   \n567                 0.07016  ...          39.42           184.60      1821.0   \n568                 0.05884  ...          30.37            59.16       268.6   \n\n     worst smoothness  worst compactness  worst concavity  \\\n0             0.16220            0.66560           0.7119   \n1             0.12380            0.18660           0.2416   \n2             0.14440            0.42450           0.4504   \n3             0.20980            0.86630           0.6869   \n4             0.13740            0.20500           0.4000   \n..                ...                ...              ...   \n564           0.14100            0.21130           0.4107   \n565           0.11660            0.19220           0.3215   \n566           0.11390            0.30940           0.3403   \n567           0.16500            0.86810           0.9387   \n568           0.08996            0.06444           0.0000   \n\n     worst concave points  worst symmetry  worst fractal dimension  target  \n0                  0.2654          0.4601                  0.11890       0  \n1                  0.1860          0.2750                  0.08902       0  \n2                  0.2430          0.3613                  0.08758       0  \n3                  0.2575          0.6638                  0.17300       0  \n4                  0.1625          0.2364                  0.07678       0  \n..                    ...             ...                      ...     ...  \n564                0.2216          0.2060                  0.07115       0  \n565                0.1628          0.2572                  0.06637       0  \n566                0.1418          0.2218                  0.07820       0  \n567                0.2650          0.4087                  0.12400       0  \n568                0.0000          0.2871                  0.07039       1  \n\n[569 rows x 31 columns]"
     },
     "metadata": {}
    }
   ],
   "source": [
    "x = data['data']\n",
    "y = data['target']\n",
    "col_names = data['feature_names']\n",
    "\n",
    "x = pd.DataFrame(x, columns=col_names)\n",
    "x['target'] = y\n",
    "display(x)\n",
    "\n",
    "tgt_classes = x['target'].unique()"
   ]
  },
  {
   "cell_type": "code",
   "execution_count": 5,
   "metadata": {},
   "outputs": [],
   "source": [
    "# Splitting the dataset\n",
    "split_ratio = 0.1\n",
    "train, test = train_test_split(x, test_size=int(x.shape[0]*0.1))"
   ]
  },
  {
   "cell_type": "code",
   "execution_count": 12,
   "metadata": {
    "tags": []
   },
   "outputs": [
    {
     "output_type": "stream",
     "name": "stdout",
     "text": [
      " Tree number : 1\n",
      "  Bagging data...\n",
      "  Building tree 'tree1'\n",
      " Tree number : 2\n",
      "  Bagging data...\n",
      "  Building tree 'tree2'\n",
      " Tree number : 3\n",
      "  Bagging data...\n",
      "  Building tree 'tree3'\n",
      " Tree number : 4\n",
      "  Bagging data...\n",
      "  Building tree 'tree4'\n",
      " Tree number : 5\n",
      "  Bagging data...\n",
      "  Building tree 'tree5'\n",
      " Tree number : 6\n",
      "  Bagging data...\n",
      "  Building tree 'tree6'\n",
      " Tree number : 7\n",
      "  Bagging data...\n",
      "  Building tree 'tree7'\n",
      " Tree number : 8\n",
      "  Bagging data...\n",
      "  Building tree 'tree8'\n",
      " Tree number : 9\n",
      "  Bagging data...\n",
      "  Building tree 'tree9'\n",
      " Tree number : 10\n",
      "  Bagging data...\n",
      "  Building tree 'tree10'\n",
      " Tree number : 11\n",
      "  Bagging data...\n",
      "  Building tree 'tree11'\n",
      " Tree number : 12\n",
      "  Bagging data...\n",
      "  Building tree 'tree12'\n",
      " Tree number : 13\n",
      "  Bagging data...\n",
      "  Building tree 'tree13'\n",
      " Tree number : 14\n",
      "  Bagging data...\n",
      "  Building tree 'tree14'\n",
      " Tree number : 15\n",
      "  Bagging data...\n",
      "  Building tree 'tree15'\n",
      " Tree number : 16\n",
      "  Bagging data...\n",
      "  Building tree 'tree16'\n",
      " Tree number : 17\n",
      "  Bagging data...\n",
      "  Building tree 'tree17'\n",
      " Tree number : 18\n",
      "  Bagging data...\n",
      "  Building tree 'tree18'\n",
      " Tree number : 19\n",
      "  Bagging data...\n",
      "  Building tree 'tree19'\n",
      " Tree number : 20\n",
      "  Bagging data...\n",
      "  Building tree 'tree20'\n",
      " Tree number : 21\n",
      "  Bagging data...\n",
      "  Building tree 'tree21'\n",
      " Tree number : 22\n",
      "  Bagging data...\n",
      "  Building tree 'tree22'\n",
      " Tree number : 23\n",
      "  Bagging data...\n",
      "  Building tree 'tree23'\n",
      " Tree number : 24\n",
      "  Bagging data...\n",
      "  Building tree 'tree24'\n",
      " Tree number : 25\n",
      "  Bagging data...\n",
      "  Building tree 'tree25'\n",
      " Tree number : 26\n",
      "  Bagging data...\n",
      "  Building tree 'tree26'\n",
      " Tree number : 27\n",
      "  Bagging data...\n",
      "  Building tree 'tree27'\n",
      " Tree number : 28\n",
      "  Bagging data...\n",
      "  Building tree 'tree28'\n",
      " Tree number : 29\n",
      "  Bagging data...\n",
      "  Building tree 'tree29'\n",
      " Tree number : 30\n",
      "  Bagging data...\n",
      "  Building tree 'tree30'\n",
      " Tree number : 31\n",
      "  Bagging data...\n",
      "  Building tree 'tree31'\n",
      " Tree number : 32\n",
      "  Bagging data...\n",
      "  Building tree 'tree32'\n",
      " Tree number : 33\n",
      "  Bagging data...\n",
      "  Building tree 'tree33'\n",
      " Tree number : 34\n",
      "  Bagging data...\n",
      "  Building tree 'tree34'\n",
      " Tree number : 35\n",
      "  Bagging data...\n",
      "  Building tree 'tree35'\n",
      " Tree number : 36\n",
      "  Bagging data...\n",
      "  Building tree 'tree36'\n",
      " Tree number : 37\n",
      "  Bagging data...\n",
      "  Building tree 'tree37'\n",
      " Tree number : 38\n",
      "  Bagging data...\n",
      "  Building tree 'tree38'\n",
      " Tree number : 39\n",
      "  Bagging data...\n",
      "  Building tree 'tree39'\n",
      " Tree number : 40\n",
      "  Bagging data...\n",
      "  Building tree 'tree40'\n",
      " Tree number : 41\n",
      "  Bagging data...\n",
      "  Building tree 'tree41'\n",
      " Tree number : 42\n",
      "  Bagging data...\n",
      "  Building tree 'tree42'\n",
      " Tree number : 43\n",
      "  Bagging data...\n",
      "  Building tree 'tree43'\n",
      " Tree number : 44\n",
      "  Bagging data...\n",
      "  Building tree 'tree44'\n",
      " Tree number : 45\n",
      "  Bagging data...\n",
      "  Building tree 'tree45'\n",
      " Tree number : 46\n",
      "  Bagging data...\n",
      "  Building tree 'tree46'\n",
      " Tree number : 47\n",
      "  Bagging data...\n",
      "  Building tree 'tree47'\n",
      " Tree number : 48\n",
      "  Bagging data...\n",
      "  Building tree 'tree48'\n",
      " Tree number : 49\n",
      "  Bagging data...\n",
      "  Building tree 'tree49'\n",
      " Tree number : 50\n",
      "  Bagging data...\n",
      "  Building tree 'tree50'\n",
      "Training tooks 48.121s\n"
     ]
    }
   ],
   "source": [
    "tick = time()\n",
    "forest = build_forest(train, 50, 15, 50, debug_forest=True, debug_tree=False)\n",
    "print(\"Training tooks %.3fs\"%(time()-tick))"
   ]
  },
  {
   "cell_type": "code",
   "execution_count": 13,
   "metadata": {},
   "outputs": [],
   "source": [
    "forest.set_debug(False)"
   ]
  },
  {
   "cell_type": "code",
   "execution_count": 18,
   "metadata": {
    "tags": []
   },
   "outputs": [
    {
     "output_type": "stream",
     "name": "stdout",
     "text": [
      "0.9285714285714286\n96.42857142857143 85.0 71.42857142857143\n"
     ]
    }
   ],
   "source": [
    "pos = 0\n",
    "pos_t = [0 for i in forest.trees]\n",
    "\n",
    "for i in test.index:\n",
    "    data = test.loc[i]\n",
    "    out = forest.classify(data)\n",
    "\n",
    "    for i, t in enumerate(forest.trees):\n",
    "        if(t.classify(data) == data['target']):\n",
    "            pos_t[i] = pos_t[i] + 1\n",
    "\n",
    "    if(out == data['target']):\n",
    "        pos = pos + 1\n",
    "\n",
    "print(pos/test.shape[0])\n",
    "acc_t = [(100*i/test.shape[0]) for i in pos_t]\n",
    "print(max(acc_t), sum(acc_t)/len(acc_t), min(acc_t))"
   ]
  },
  {
   "cell_type": "code",
   "execution_count": null,
   "metadata": {},
   "outputs": [],
   "source": []
  }
 ]
}